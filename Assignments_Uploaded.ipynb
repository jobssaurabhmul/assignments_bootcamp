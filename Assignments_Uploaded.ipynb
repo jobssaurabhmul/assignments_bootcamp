{
 "cells": [
  {
   "cell_type": "markdown",
   "id": "4192011a",
   "metadata": {},
   "source": [
    "Given is a nested tuple. Write a program to modify the item (44) of a list inside a following tuple to 444.\n",
    "\n",
    "Given:      tuple1 = (11, 22, [33, 44, 55],66,77)"
   ]
  },
  {
   "cell_type": "code",
   "execution_count": 1,
   "id": "ca09560b",
   "metadata": {},
   "outputs": [
    {
     "name": "stdout",
     "output_type": "stream",
     "text": [
      "(11, 22, [33, 444, 55], 66, 77)\n"
     ]
    }
   ],
   "source": [
    "tuple1 = (11, 22, [33, 44, 55],66,77)\n",
    "tuple1[2][1] = 444\n",
    "print(tuple1)"
   ]
  },
  {
   "cell_type": "markdown",
   "id": "c188df08",
   "metadata": {},
   "source": [
    "Write a program to add two lists index-wise. Create a new list that contains the 0th index item from both the list, then the 1st index item, and so on till the last element. any leftover items will get added at the end of the new list.\n",
    "\n",
    "Given:      list1 = [\"M\", \"na\", \"i\", \"Ke\"]           list2 = [\"y\", \"me\", \"s\", \"lly\"]"
   ]
  },
  {
   "cell_type": "code",
   "execution_count": 2,
   "id": "edf70421",
   "metadata": {},
   "outputs": [
    {
     "name": "stdout",
     "output_type": "stream",
     "text": [
      "['My', 'name', 'is', 'Kelly']\n"
     ]
    }
   ],
   "source": [
    "list1 = [\"M\", \"na\", \"i\", \"Ke\"] \n",
    "list2 = [\"y\", \"me\", \"s\", \"lly\"]\n",
    "res = []\n",
    "for i in range(len(list1)):\n",
    "    res.append(list1[i] + list2[i])\n",
    "print(res)"
   ]
  },
  {
   "cell_type": "markdown",
   "id": "ce81139e",
   "metadata": {},
   "source": [
    "Write a Python program to change Brad’s salary to 85000 in the following dictionary.\n",
    "\n",
    "Given:      sample_dict = {‘emp1': {'name': 'Jhon', 'salary': 75000},\n",
    "\n",
    "  \t\t      'emp2': {'name': 'Emma', 'salary': 80000},\n",
    "\n",
    " \t\t\t      'emp3': {'name': 'Brad', 'salary': 500}}"
   ]
  },
  {
   "cell_type": "code",
   "execution_count": 3,
   "id": "b81657f8",
   "metadata": {},
   "outputs": [
    {
     "name": "stdout",
     "output_type": "stream",
     "text": [
      "{'emp1': {'name': 'Jhon', 'salary': 75000}, 'emp2': {'name': 'Emma', 'salary': 80000}, 'emp3': {'name': 'Brad', 'salary': 85000}}\n"
     ]
    }
   ],
   "source": [
    "sample_dict = {'emp1': {'name': 'Jhon', 'salary': 75000},\n",
    "\n",
    "            'emp2': {'name': 'Emma', 'salary': 80000},\n",
    "\n",
    "               'emp3': {'name': 'Brad', 'salary': 500}}\n",
    "\n",
    "sample_dict['emp3']['salary'] = 85000\n",
    "\n",
    "print(sample_dict)"
   ]
  },
  {
   "cell_type": "markdown",
   "id": "1823e17e",
   "metadata": {},
   "source": [
    "WAP to Return a set of elements present in Set A or B, but not both.\n",
    "\n",
    "Given:           set1 = {10, 20, 30, 40, 50,60,70}                 set2 = {40, 50, 60, 70,80,90}"
   ]
  },
  {
   "cell_type": "code",
   "execution_count": 4,
   "id": "cda505f6",
   "metadata": {},
   "outputs": [
    {
     "data": {
      "text/plain": [
       "{10, 20, 30, 80, 90}"
      ]
     },
     "execution_count": 4,
     "metadata": {},
     "output_type": "execute_result"
    }
   ],
   "source": [
    "set1 = {10, 20, 30, 40, 50,60,70} \n",
    "set2 = {40, 50, 60, 70,80,90}\n",
    "set1.symmetric_difference(set2)"
   ]
  },
  {
   "cell_type": "markdown",
   "id": "3349e6af",
   "metadata": {},
   "source": [
    "WAP to Ask users to enter age, gender (M or F), marital status (Y or N) and then using following rules print their place of service.\n",
    "\n",
    "If the employee is female, then she will work only in urban areas.\n",
    "\n",
    "If employee is a male and age is in between 20 to 40 then he may work in anywhere\n",
    "\n",
    "If the employee is male and age is between 40 to 60 then he will work in urban areas only.\n",
    "\n",
    "And any other input of age should print \"ERROR\"."
   ]
  },
  {
   "cell_type": "code",
   "execution_count": 5,
   "id": "53affa00",
   "metadata": {},
   "outputs": [
    {
     "name": "stdout",
     "output_type": "stream",
     "text": [
      "Enter Age:25\n",
      "Enter gender, M or F:M\n",
      "Enter marital status, Y or N:Y\n",
      "May work anywhere\n"
     ]
    }
   ],
   "source": [
    "age = int(input('Enter Age:'))\n",
    "gender = input('Enter gender, M or F:')\n",
    "marital_status = input('Enter marital status, Y or N:')\n",
    "\n",
    "if gender=='F':\n",
    "    print('Will work in urban areas only')\n",
    "elif gender=='M':\n",
    "    if age>20 and age<40:\n",
    "        print('May work anywhere')\n",
    "    elif age>40 and age<60:\n",
    "        print('Will work in urban areas only')\n",
    "    else:\n",
    "        print('ERROR')\n",
    "else:\n",
    "    print('ERROR')"
   ]
  },
  {
   "cell_type": "code",
   "execution_count": 6,
   "id": "a945f0af",
   "metadata": {},
   "outputs": [
    {
     "name": "stdout",
     "output_type": "stream",
     "text": [
      "0\n",
      "1\n",
      "1\n",
      "2\n",
      "3\n",
      "5\n",
      "8\n",
      "13\n",
      "21\n",
      "34\n"
     ]
    }
   ],
   "source": [
    "# fibonacci\n",
    "a = 0\n",
    "b = 1\n",
    "for i in range(0,10):\n",
    "    print(a)\n",
    "    a,b = b, a+b"
   ]
  },
  {
   "cell_type": "code",
   "execution_count": 24,
   "id": "39aaf6bc",
   "metadata": {},
   "outputs": [
    {
     "name": "stdout",
     "output_type": "stream",
     "text": [
      "6\n"
     ]
    }
   ],
   "source": [
    "# factorial of a number\n",
    "factorial = 1\n",
    "num = 3\n",
    "for i in range(1,num+1):\n",
    "    factorial = i* factorial\n",
    "print(factorial)"
   ]
  },
  {
   "cell_type": "markdown",
   "id": "35659093",
   "metadata": {},
   "source": [
    "Write a program to print the following number pattern using a for loop.\n",
    "\n",
    "1\n",
    "\n",
    "1 2\n",
    "\n",
    "1 2 3\n",
    "\n",
    "1 2 3 4\n",
    "\n",
    "1 2 3 4 5"
   ]
  },
  {
   "cell_type": "code",
   "execution_count": 7,
   "id": "b2766809",
   "metadata": {
    "scrolled": true
   },
   "outputs": [
    {
     "name": "stdout",
     "output_type": "stream",
     "text": [
      "1 \n",
      "\n",
      "1 2 \n",
      "\n",
      "1 2 3 \n",
      "\n",
      "1 2 3 4 \n",
      "\n",
      "1 2 3 4 5 \n",
      "\n"
     ]
    }
   ],
   "source": [
    "for i in range(1,6):\n",
    "    for j in range(1,6):\n",
    "        if j<=i:\n",
    "            print(j,end = ' ')\n",
    "    print('\\n')"
   ]
  },
  {
   "cell_type": "markdown",
   "id": "45812c1b",
   "metadata": {},
   "source": [
    "Write a program to calculate the sum of series up to n term. For example, if n =5 the series will become \n",
    "\n",
    "        2 + 22 + 222 + 2222 + 22222 = 24690"
   ]
  },
  {
   "cell_type": "code",
   "execution_count": 8,
   "id": "2e156875",
   "metadata": {},
   "outputs": [],
   "source": [
    "def sum_series(num,n):\n",
    "    sum1 = 0\n",
    "    for i in range(1,n+1):\n",
    "        sum1 = sum1 + int(str(num)*i) # to get the series convert into string and multiply\n",
    "    return sum1"
   ]
  },
  {
   "cell_type": "code",
   "execution_count": 9,
   "id": "47147517",
   "metadata": {},
   "outputs": [
    {
     "data": {
      "text/plain": [
       "24690"
      ]
     },
     "execution_count": 9,
     "metadata": {},
     "output_type": "execute_result"
    }
   ],
   "source": [
    "sum_series(2,5)"
   ]
  },
  {
   "cell_type": "code",
   "execution_count": 10,
   "id": "530812f1",
   "metadata": {},
   "outputs": [
    {
     "data": {
      "text/plain": [
       "37035"
      ]
     },
     "execution_count": 10,
     "metadata": {},
     "output_type": "execute_result"
    }
   ],
   "source": [
    "sum_series(3,5)"
   ]
  },
  {
   "cell_type": "markdown",
   "id": "82f6cd55",
   "metadata": {},
   "source": [
    "WAP to Find the element in a given list is “Even” or “ODD” using List Comprehension.\n",
    "\n",
    "   List1= [12,23,34,45,56,67,78,89,90]"
   ]
  },
  {
   "cell_type": "code",
   "execution_count": 11,
   "id": "2dfb10ed",
   "metadata": {},
   "outputs": [
    {
     "name": "stdout",
     "output_type": "stream",
     "text": [
      "even: [12, 34, 56, 78, 90]\n",
      "odd: [23, 45, 67, 89]\n"
     ]
    }
   ],
   "source": [
    "list1 = [12,23,34,45,56,67,78,89,90]\n",
    "even  = [i for i in list1 if i%2==0]\n",
    "odd   = [i for i in list1 if i%2!=0]\n",
    "print('even:',even)\n",
    "print('odd:',odd)"
   ]
  },
  {
   "cell_type": "markdown",
   "id": "5edaf56b",
   "metadata": {},
   "source": [
    "Write a program to create a function show_employee() using the following conditions.\n",
    "\n",
    "It should accept the employee’s name, age and salary and display both.\n",
    "\n",
    "If the salary is missing in the function call, then assign default value 9000 to salary."
   ]
  },
  {
   "cell_type": "code",
   "execution_count": 12,
   "id": "ab0aecec",
   "metadata": {},
   "outputs": [],
   "source": [
    "def show_employee(name, age, salary=9000):\n",
    "    return (f'Employee Name is {name}, employee age is {age} and employee salary is {salary}')"
   ]
  },
  {
   "cell_type": "code",
   "execution_count": 13,
   "id": "165956ad",
   "metadata": {},
   "outputs": [
    {
     "data": {
      "text/plain": [
       "'Employee Name is Sam, employee age is 25 and employee salary is 27000'"
      ]
     },
     "execution_count": 13,
     "metadata": {},
     "output_type": "execute_result"
    }
   ],
   "source": [
    "show_employee('Sam',25,27000)"
   ]
  },
  {
   "cell_type": "code",
   "execution_count": 14,
   "id": "19f56971",
   "metadata": {},
   "outputs": [
    {
     "data": {
      "text/plain": [
       "'Employee Name is Jack, employee age is 27 and employee salary is 9000'"
      ]
     },
     "execution_count": 14,
     "metadata": {},
     "output_type": "execute_result"
    }
   ],
   "source": [
    "show_employee('Jack',27)"
   ]
  },
  {
   "cell_type": "markdown",
   "id": "bdba557c",
   "metadata": {},
   "source": [
    "Write a program to create a recursive function to calculate the sum of numbers between given two numbers."
   ]
  },
  {
   "cell_type": "code",
   "execution_count": 15,
   "id": "1c01d9e4",
   "metadata": {},
   "outputs": [],
   "source": [
    "def add_recursive(num1,num2):\n",
    "    if num2==0:\n",
    "        return num1\n",
    "    else:\n",
    "        return add_recursive(num1,num2-1)+1"
   ]
  },
  {
   "cell_type": "code",
   "execution_count": 16,
   "id": "17f10222",
   "metadata": {},
   "outputs": [
    {
     "data": {
      "text/plain": [
       "220"
      ]
     },
     "execution_count": 16,
     "metadata": {},
     "output_type": "execute_result"
    }
   ],
   "source": [
    "add_recursive(100,120)"
   ]
  },
  {
   "cell_type": "markdown",
   "id": "ea57e6df",
   "metadata": {},
   "source": [
    "WAP to create an age list from the given DOB list using Lambda function.\n",
    "\n",
    "               list1=[1991,1992,1994,1996,1998,2000,2001,2002,2004]"
   ]
  },
  {
   "cell_type": "code",
   "execution_count": 17,
   "id": "5da42b96",
   "metadata": {},
   "outputs": [
    {
     "data": {
      "text/plain": [
       "[33, 32, 30, 28, 26, 24, 23, 22, 20]"
      ]
     },
     "execution_count": 17,
     "metadata": {},
     "output_type": "execute_result"
    }
   ],
   "source": [
    "list1 = [1991,1992,1994,1996,1998,2000,2001,2002,2004]\n",
    "age = map(lambda x:(2024-x), list1)\n",
    "age_list = list(age)\n",
    "age_list"
   ]
  },
  {
   "cell_type": "markdown",
   "id": "76e74270",
   "metadata": {},
   "source": [
    "Write a program to check if the given file is empty or not."
   ]
  },
  {
   "cell_type": "code",
   "execution_count": 18,
   "id": "35097c45",
   "metadata": {},
   "outputs": [
    {
     "name": "stdout",
     "output_type": "stream",
     "text": [
      "File is empty\n"
     ]
    }
   ],
   "source": [
    "with open('file.txt','r') as data:\n",
    "    data.read()\n",
    "    pos = data.tell()\n",
    "    if pos ==0:\n",
    "        print('File is empty')\n",
    "    else:\n",
    "        print('File is not empty')"
   ]
  },
  {
   "cell_type": "markdown",
   "id": "6a30da68",
   "metadata": {},
   "source": [
    "WAP to Define a class attribute”color” with a default value white. I.e., Every Vehicle should be white.\n",
    "\n",
    "Expected Output:\n",
    "\n",
    "Color: White, Vehicle name: School Volvo, Speed: 180, Mileage: 12\n",
    "\n",
    "Color: White, Vehicle name: Audi Q5, Speed: 240, Mileage: 18"
   ]
  },
  {
   "cell_type": "code",
   "execution_count": 19,
   "id": "f91d35f5",
   "metadata": {},
   "outputs": [],
   "source": [
    "class car():\n",
    "    \n",
    "    def __init__(self, name, speed, mileage, color = 'White'):\n",
    "        self.color = color\n",
    "        self.name = name\n",
    "        self.speed = speed\n",
    "        self.mileage = mileage\n",
    "        \n",
    "    def show_detail(self):\n",
    "        print(f'Color: {self.color}, Vehicle name: {self.name}, Speed: {self.speed}, Mileage: {self.mileage}')"
   ]
  },
  {
   "cell_type": "code",
   "execution_count": 20,
   "id": "25a6eba1",
   "metadata": {},
   "outputs": [
    {
     "name": "stdout",
     "output_type": "stream",
     "text": [
      "Color: White, Vehicle name: School Volvo, Speed: 180, Mileage: 12\n"
     ]
    }
   ],
   "source": [
    "c1 = car('School Volvo','180','12')\n",
    "c1.show_detail()"
   ]
  },
  {
   "cell_type": "code",
   "execution_count": 21,
   "id": "f846492d",
   "metadata": {},
   "outputs": [
    {
     "name": "stdout",
     "output_type": "stream",
     "text": [
      "Color: White, Vehicle name: Audi Q5, Speed: 240, Mileage: 18\n"
     ]
    }
   ],
   "source": [
    "c2 = car('Audi Q5','240','18')\n",
    "c2.show_detail()"
   ]
  },
  {
   "cell_type": "markdown",
   "id": "89d9ea2a",
   "metadata": {},
   "source": [
    "WAP to Create a 4X2 integer array and print the following Attributes: –\n",
    "\n",
    "The shape of an array.\n",
    "\n",
    "Array dimensions.\n",
    "\n",
    "The Length of each element of the array in bytes."
   ]
  },
  {
   "cell_type": "code",
   "execution_count": 22,
   "id": "5984b3ea",
   "metadata": {},
   "outputs": [],
   "source": [
    "import numpy as np"
   ]
  },
  {
   "cell_type": "code",
   "execution_count": 23,
   "id": "36a06445",
   "metadata": {},
   "outputs": [
    {
     "data": {
      "text/plain": [
       "array([[0, 1],\n",
       "       [2, 3],\n",
       "       [4, 5],\n",
       "       [6, 7]])"
      ]
     },
     "execution_count": 23,
     "metadata": {},
     "output_type": "execute_result"
    }
   ],
   "source": [
    "arr = np.arange(8).reshape(4,2)\n",
    "arr"
   ]
  },
  {
   "cell_type": "code",
   "execution_count": 24,
   "id": "b3b9eb11",
   "metadata": {},
   "outputs": [
    {
     "name": "stdout",
     "output_type": "stream",
     "text": [
      "(4, 2)\n"
     ]
    }
   ],
   "source": [
    "print(arr.shape)"
   ]
  },
  {
   "cell_type": "code",
   "execution_count": 25,
   "id": "4bf7931a",
   "metadata": {},
   "outputs": [
    {
     "data": {
      "text/plain": [
       "2"
      ]
     },
     "execution_count": 25,
     "metadata": {},
     "output_type": "execute_result"
    }
   ],
   "source": [
    "arr.ndim"
   ]
  },
  {
   "cell_type": "code",
   "execution_count": 26,
   "id": "bf2a2499",
   "metadata": {},
   "outputs": [
    {
     "data": {
      "text/plain": [
       "4"
      ]
     },
     "execution_count": 26,
     "metadata": {},
     "output_type": "execute_result"
    }
   ],
   "source": [
    "arr.itemsize"
   ]
  },
  {
   "cell_type": "markdown",
   "id": "ce27effa",
   "metadata": {},
   "source": [
    "WAP to Create an 8X3 integer array from a range between 10 to 34 such that the difference between each element is 1 and then Split the array into four equal-sized sub-arrays.\n",
    "\n",
    "\n",
    "\n",
    "Expected Output:\n",
    "\n",
    "Creating 8X3 array\n",
    "\n",
    "[[10 11 12]\n",
    "\n",
    " [13 14 15]\n",
    "\n",
    " [16 17 18]\n",
    "\n",
    " [19 20 21]\n",
    "\n",
    " [22 23 24]\n",
    "\n",
    " [25 26 27]\n",
    "\n",
    " [28 29 30]\n",
    "\n",
    " [31 32 33]]\n",
    "\n",
    "Dividing 8X3 array into 4 sub array\n",
    "\n",
    "[array([[10, 11, 12],[13, 14, 15]]), \n",
    "\n",
    "array([[16, 17, 18],[19, 20, 21]]), \n",
    "\n",
    "array([[22, 23, 24],[25, 26, 27]]), \n",
    "\n",
    "array([[28, 29, 30],[31, 32, 33]])]"
   ]
  },
  {
   "cell_type": "code",
   "execution_count": 27,
   "id": "a33af585",
   "metadata": {},
   "outputs": [],
   "source": [
    "arr1 = np.arange(10,34).reshape(8,3)"
   ]
  },
  {
   "cell_type": "code",
   "execution_count": 28,
   "id": "69928a22",
   "metadata": {},
   "outputs": [
    {
     "data": {
      "text/plain": [
       "[array([[10, 11, 12],\n",
       "        [13, 14, 15]]),\n",
       " array([[16, 17, 18],\n",
       "        [19, 20, 21]]),\n",
       " array([[22, 23, 24],\n",
       "        [25, 26, 27]]),\n",
       " array([[28, 29, 30],\n",
       "        [31, 32, 33]])]"
      ]
     },
     "execution_count": 28,
     "metadata": {},
     "output_type": "execute_result"
    }
   ],
   "source": [
    "ans = np.array_split(arr1,4,axis=0)\n",
    "ans"
   ]
  },
  {
   "cell_type": "markdown",
   "id": "2f04d628",
   "metadata": {},
   "source": [
    "WAP to create number series and apply the function, f(x) = x/2 on each and every element of the pandas series."
   ]
  },
  {
   "cell_type": "code",
   "execution_count": 30,
   "id": "f4927f10",
   "metadata": {},
   "outputs": [],
   "source": [
    "import pandas as pd\n",
    "import numpy as np"
   ]
  },
  {
   "cell_type": "code",
   "execution_count": 31,
   "id": "0d9a01df",
   "metadata": {},
   "outputs": [
    {
     "data": {
      "text/plain": [
       "0    0.0\n",
       "1    0.5\n",
       "2    1.0\n",
       "3    1.5\n",
       "4    2.0\n",
       "5    2.5\n",
       "6    3.0\n",
       "7    3.5\n",
       "8    4.0\n",
       "9    4.5\n",
       "dtype: float64"
      ]
     },
     "execution_count": 31,
     "metadata": {},
     "output_type": "execute_result"
    }
   ],
   "source": [
    "ser = pd.Series(np.arange(10))\n",
    "func = lambda x:x/2\n",
    "ser.apply(func)"
   ]
  },
  {
   "cell_type": "markdown",
   "id": "44941539",
   "metadata": {},
   "source": [
    "WAP to convert given a dictionary into corresponding dataframe and display it.\n",
    "\n",
    "dictionary = {'name': ['Vinay', 'Kushal', 'Aman'],\n",
    "\n",
    "          \t            'age' : [22, 25, 24],\n",
    "\n",
    "          \t            'occ' : ['engineer', 'doctor', 'accountant']}"
   ]
  },
  {
   "cell_type": "code",
   "execution_count": 32,
   "id": "df6f34f7",
   "metadata": {},
   "outputs": [],
   "source": [
    "data = {\n",
    "    'name':['Vinay','Kushal','Aman'],\n",
    "    'age':[22,25,24],\n",
    "    'occ':['engineer','doctor','accountant']\n",
    "}"
   ]
  },
  {
   "cell_type": "code",
   "execution_count": 33,
   "id": "d20459bb",
   "metadata": {},
   "outputs": [
    {
     "data": {
      "text/html": [
       "<div>\n",
       "<style scoped>\n",
       "    .dataframe tbody tr th:only-of-type {\n",
       "        vertical-align: middle;\n",
       "    }\n",
       "\n",
       "    .dataframe tbody tr th {\n",
       "        vertical-align: top;\n",
       "    }\n",
       "\n",
       "    .dataframe thead th {\n",
       "        text-align: right;\n",
       "    }\n",
       "</style>\n",
       "<table border=\"1\" class=\"dataframe\">\n",
       "  <thead>\n",
       "    <tr style=\"text-align: right;\">\n",
       "      <th></th>\n",
       "      <th>name</th>\n",
       "      <th>age</th>\n",
       "      <th>occ</th>\n",
       "    </tr>\n",
       "  </thead>\n",
       "  <tbody>\n",
       "    <tr>\n",
       "      <th>0</th>\n",
       "      <td>Vinay</td>\n",
       "      <td>22</td>\n",
       "      <td>engineer</td>\n",
       "    </tr>\n",
       "    <tr>\n",
       "      <th>1</th>\n",
       "      <td>Kushal</td>\n",
       "      <td>25</td>\n",
       "      <td>doctor</td>\n",
       "    </tr>\n",
       "    <tr>\n",
       "      <th>2</th>\n",
       "      <td>Aman</td>\n",
       "      <td>24</td>\n",
       "      <td>accountant</td>\n",
       "    </tr>\n",
       "  </tbody>\n",
       "</table>\n",
       "</div>"
      ],
      "text/plain": [
       "     name  age         occ\n",
       "0   Vinay   22    engineer\n",
       "1  Kushal   25      doctor\n",
       "2    Aman   24  accountant"
      ]
     },
     "execution_count": 33,
     "metadata": {},
     "output_type": "execute_result"
    }
   ],
   "source": [
    "df = pd.DataFrame(data)\n",
    "df"
   ]
  },
  {
   "cell_type": "markdown",
   "id": "7c5bc2bc",
   "metadata": {},
   "source": [
    " Given is a dataframe showing Company Names (cname) and corresponding Profits (profit). WAP to convert the values of Profit column such that values in it greater than 0 are set to True and the rest are set to False.\n",
    "\n",
    "                               cname                                             profit\n",
    "\n",
    "0                           Shyam & Co.                                 -10000\n",
    "\n",
    "1                           Ramlal & Bros.                                 10000\n",
    "\n",
    "2                          Sharma Enterprises                    -5000\n",
    "\n",
    "3                          Verma Furnitures                           15000\n",
    "\n",
    "4                          Rahul Stores                                      20000"
   ]
  },
  {
   "cell_type": "code",
   "execution_count": 34,
   "id": "9354ced8",
   "metadata": {},
   "outputs": [],
   "source": [
    "df = pd.DataFrame({\n",
    "    'cname':['Shyam & Co.','Ramlal & Bros.','Sharma Enterprises','Verma Furnitures','Rahul Stores'],\n",
    "    'profit':[-10000,10000,-5000,15000,20000]\n",
    "})"
   ]
  },
  {
   "cell_type": "code",
   "execution_count": 35,
   "id": "b4df889c",
   "metadata": {},
   "outputs": [
    {
     "data": {
      "text/html": [
       "<div>\n",
       "<style scoped>\n",
       "    .dataframe tbody tr th:only-of-type {\n",
       "        vertical-align: middle;\n",
       "    }\n",
       "\n",
       "    .dataframe tbody tr th {\n",
       "        vertical-align: top;\n",
       "    }\n",
       "\n",
       "    .dataframe thead th {\n",
       "        text-align: right;\n",
       "    }\n",
       "</style>\n",
       "<table border=\"1\" class=\"dataframe\">\n",
       "  <thead>\n",
       "    <tr style=\"text-align: right;\">\n",
       "      <th></th>\n",
       "      <th>cname</th>\n",
       "      <th>profit</th>\n",
       "    </tr>\n",
       "  </thead>\n",
       "  <tbody>\n",
       "    <tr>\n",
       "      <th>0</th>\n",
       "      <td>Shyam &amp; Co.</td>\n",
       "      <td>-10000</td>\n",
       "    </tr>\n",
       "    <tr>\n",
       "      <th>1</th>\n",
       "      <td>Ramlal &amp; Bros.</td>\n",
       "      <td>10000</td>\n",
       "    </tr>\n",
       "    <tr>\n",
       "      <th>2</th>\n",
       "      <td>Sharma Enterprises</td>\n",
       "      <td>-5000</td>\n",
       "    </tr>\n",
       "    <tr>\n",
       "      <th>3</th>\n",
       "      <td>Verma Furnitures</td>\n",
       "      <td>15000</td>\n",
       "    </tr>\n",
       "    <tr>\n",
       "      <th>4</th>\n",
       "      <td>Rahul Stores</td>\n",
       "      <td>20000</td>\n",
       "    </tr>\n",
       "  </tbody>\n",
       "</table>\n",
       "</div>"
      ],
      "text/plain": [
       "                cname  profit\n",
       "0         Shyam & Co.  -10000\n",
       "1      Ramlal & Bros.   10000\n",
       "2  Sharma Enterprises   -5000\n",
       "3    Verma Furnitures   15000\n",
       "4        Rahul Stores   20000"
      ]
     },
     "execution_count": 35,
     "metadata": {},
     "output_type": "execute_result"
    }
   ],
   "source": [
    "df"
   ]
  },
  {
   "cell_type": "code",
   "execution_count": 36,
   "id": "5ccaffb5",
   "metadata": {},
   "outputs": [],
   "source": [
    "func = lambda x:True if x>0 else False"
   ]
  },
  {
   "cell_type": "code",
   "execution_count": 37,
   "id": "7ec8c082",
   "metadata": {},
   "outputs": [],
   "source": [
    "df['profit'] = df['profit'].apply(func)"
   ]
  },
  {
   "cell_type": "code",
   "execution_count": 38,
   "id": "6985ab35",
   "metadata": {},
   "outputs": [
    {
     "data": {
      "text/html": [
       "<div>\n",
       "<style scoped>\n",
       "    .dataframe tbody tr th:only-of-type {\n",
       "        vertical-align: middle;\n",
       "    }\n",
       "\n",
       "    .dataframe tbody tr th {\n",
       "        vertical-align: top;\n",
       "    }\n",
       "\n",
       "    .dataframe thead th {\n",
       "        text-align: right;\n",
       "    }\n",
       "</style>\n",
       "<table border=\"1\" class=\"dataframe\">\n",
       "  <thead>\n",
       "    <tr style=\"text-align: right;\">\n",
       "      <th></th>\n",
       "      <th>cname</th>\n",
       "      <th>profit</th>\n",
       "    </tr>\n",
       "  </thead>\n",
       "  <tbody>\n",
       "    <tr>\n",
       "      <th>0</th>\n",
       "      <td>Shyam &amp; Co.</td>\n",
       "      <td>False</td>\n",
       "    </tr>\n",
       "    <tr>\n",
       "      <th>1</th>\n",
       "      <td>Ramlal &amp; Bros.</td>\n",
       "      <td>True</td>\n",
       "    </tr>\n",
       "    <tr>\n",
       "      <th>2</th>\n",
       "      <td>Sharma Enterprises</td>\n",
       "      <td>False</td>\n",
       "    </tr>\n",
       "    <tr>\n",
       "      <th>3</th>\n",
       "      <td>Verma Furnitures</td>\n",
       "      <td>True</td>\n",
       "    </tr>\n",
       "    <tr>\n",
       "      <th>4</th>\n",
       "      <td>Rahul Stores</td>\n",
       "      <td>True</td>\n",
       "    </tr>\n",
       "  </tbody>\n",
       "</table>\n",
       "</div>"
      ],
      "text/plain": [
       "                cname  profit\n",
       "0         Shyam & Co.   False\n",
       "1      Ramlal & Bros.    True\n",
       "2  Sharma Enterprises   False\n",
       "3    Verma Furnitures    True\n",
       "4        Rahul Stores    True"
      ]
     },
     "execution_count": 38,
     "metadata": {},
     "output_type": "execute_result"
    }
   ],
   "source": [
    "df"
   ]
  },
  {
   "cell_type": "markdown",
   "id": "2460d6e1",
   "metadata": {},
   "source": [
    "WAP to generate the statistical summary of all the numerical features present in the given dataframe.\n",
    "\n",
    "eid                         ename                 stipend               position\n",
    "\n",
    "0    1                         Sid                       10000                employee\n",
    "\n",
    "1    2                         Ramesh             10000               employee\n",
    "\n",
    "2    3                        Ron                       5000                 intern\n",
    "\n",
    "3    4                        Harry                   15000                senior_employee"
   ]
  },
  {
   "cell_type": "code",
   "execution_count": 39,
   "id": "f79b35fb",
   "metadata": {},
   "outputs": [],
   "source": [
    "df = pd.DataFrame({\n",
    "    'eid':[1,2,3,4],\n",
    "    'ename':['Sid','Ramesh','Ron','Harry'],\n",
    "    'stipend':[10000,10000,5000,15000],\n",
    "    'position':['employee','employee','intern','senior_employee']\n",
    "})"
   ]
  },
  {
   "cell_type": "code",
   "execution_count": 40,
   "id": "9807c76c",
   "metadata": {},
   "outputs": [
    {
     "data": {
      "text/html": [
       "<div>\n",
       "<style scoped>\n",
       "    .dataframe tbody tr th:only-of-type {\n",
       "        vertical-align: middle;\n",
       "    }\n",
       "\n",
       "    .dataframe tbody tr th {\n",
       "        vertical-align: top;\n",
       "    }\n",
       "\n",
       "    .dataframe thead th {\n",
       "        text-align: right;\n",
       "    }\n",
       "</style>\n",
       "<table border=\"1\" class=\"dataframe\">\n",
       "  <thead>\n",
       "    <tr style=\"text-align: right;\">\n",
       "      <th></th>\n",
       "      <th>eid</th>\n",
       "      <th>ename</th>\n",
       "      <th>stipend</th>\n",
       "      <th>position</th>\n",
       "    </tr>\n",
       "  </thead>\n",
       "  <tbody>\n",
       "    <tr>\n",
       "      <th>0</th>\n",
       "      <td>1</td>\n",
       "      <td>Sid</td>\n",
       "      <td>10000</td>\n",
       "      <td>employee</td>\n",
       "    </tr>\n",
       "    <tr>\n",
       "      <th>1</th>\n",
       "      <td>2</td>\n",
       "      <td>Ramesh</td>\n",
       "      <td>10000</td>\n",
       "      <td>employee</td>\n",
       "    </tr>\n",
       "    <tr>\n",
       "      <th>2</th>\n",
       "      <td>3</td>\n",
       "      <td>Ron</td>\n",
       "      <td>5000</td>\n",
       "      <td>intern</td>\n",
       "    </tr>\n",
       "    <tr>\n",
       "      <th>3</th>\n",
       "      <td>4</td>\n",
       "      <td>Harry</td>\n",
       "      <td>15000</td>\n",
       "      <td>senior_employee</td>\n",
       "    </tr>\n",
       "  </tbody>\n",
       "</table>\n",
       "</div>"
      ],
      "text/plain": [
       "   eid   ename  stipend         position\n",
       "0    1     Sid    10000         employee\n",
       "1    2  Ramesh    10000         employee\n",
       "2    3     Ron     5000           intern\n",
       "3    4   Harry    15000  senior_employee"
      ]
     },
     "execution_count": 40,
     "metadata": {},
     "output_type": "execute_result"
    }
   ],
   "source": [
    "df"
   ]
  },
  {
   "cell_type": "code",
   "execution_count": 41,
   "id": "55ac5ef9",
   "metadata": {
    "scrolled": true
   },
   "outputs": [
    {
     "data": {
      "text/plain": [
       "count        4.000000\n",
       "mean     10000.000000\n",
       "std       4082.482905\n",
       "min       5000.000000\n",
       "25%       8750.000000\n",
       "50%      10000.000000\n",
       "75%      11250.000000\n",
       "max      15000.000000\n",
       "Name: stipend, dtype: float64"
      ]
     },
     "execution_count": 41,
     "metadata": {},
     "output_type": "execute_result"
    }
   ],
   "source": [
    "df['stipend'].describe()"
   ]
  }
 ],
 "metadata": {
  "kernelspec": {
   "display_name": "Python 3 (ipykernel)",
   "language": "python",
   "name": "python3"
  },
  "language_info": {
   "codemirror_mode": {
    "name": "ipython",
    "version": 3
   },
   "file_extension": ".py",
   "mimetype": "text/x-python",
   "name": "python",
   "nbconvert_exporter": "python",
   "pygments_lexer": "ipython3",
   "version": "3.9.12"
  }
 },
 "nbformat": 4,
 "nbformat_minor": 5
}
